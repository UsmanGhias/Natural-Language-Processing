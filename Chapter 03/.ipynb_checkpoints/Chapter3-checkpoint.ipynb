{
 "cells": [
  {
   "cell_type": "markdown",
   "id": "b156091d-ccd2-4c35-bd49-d43662a46c00",
   "metadata": {},
   "source": [
    "# <center> Extractive Text Summarization"
   ]
  },
  {
   "cell_type": "markdown",
   "id": "1a1c68d7-279f-402f-93f1-1e5ce149d53a",
   "metadata": {},
   "source": [
    "- Text summarization finds widespread application in numerous websites and applications, aiding in the creation of concise news feeds and article synopses.\n",
    "- Summarization serves as a technique for condensing lengthy texts while retaining all crucial points from the original document.\n",
    "\n",
    "### <center> Types of Summarization\n",
    "- **Extractive Summarization**: The extractive method involves selecting the most vital phrases and sentences directly from the source documents.\n",
    "- **Abstractive Summarization**: In contrast, abstractive summarization employs fresh phrases and terminology distinct from the original document while preserving the core ideas. This approach closely emulates how humans create summaries and is more challenging than the extractive method."
   ]
  },
  {
   "cell_type": "code",
   "execution_count": null,
   "id": "bb88e232-7c2d-4d1f-b904-4af068003f3f",
   "metadata": {},
   "outputs": [],
   "source": []
  },
  {
   "cell_type": "code",
   "execution_count": null,
   "id": "c1ef7578-9abf-49e5-becf-7f76a0d206db",
   "metadata": {},
   "outputs": [],
   "source": [
    "# Importing Sentense Transformers\n",
    "!pip install -U sentence-transformers"
   ]
  },
  {
   "cell_type": "code",
   "execution_count": null,
   "id": "484c2aa4-2054-442a-a4da-33ce4f06467c",
   "metadata": {},
   "outputs": [],
   "source": [
    "from sentence_transformers import SentenceTransformer, util"
   ]
  },
  {
   "cell_type": "code",
   "execution_count": null,
   "id": "d51862c4-c196-44a4-a1d1-7c25a8ed1d49",
   "metadata": {},
   "outputs": [],
   "source": [
    "from LexRank import degree_centrality_scores"
   ]
  },
  {
   "cell_type": "code",
   "execution_count": null,
   "id": "71a37cf9-4caa-4090-944c-7769a2180449",
   "metadata": {},
   "outputs": [],
   "source": [
    "import nltk\n",
    "nltk.download('punkt')"
   ]
  },
  {
   "cell_type": "code",
   "execution_count": null,
   "id": "a886e642-220c-4b7b-9cdd-a877e9223f3c",
   "metadata": {},
   "outputs": [],
   "source": [
    "import numpy as np"
   ]
  },
  {
   "cell_type": "code",
   "execution_count": null,
   "id": "5351be62-4f20-427a-ab7f-1b8c33e4e3de",
   "metadata": {},
   "outputs": [],
   "source": [
    "model = SentenceTransformer('all-MiniLM-L6-v2')"
   ]
  },
  {
   "cell_type": "code",
   "execution_count": null,
   "id": "9ab7a35e-bc30-44ec-b073-dd2020dd30e1",
   "metadata": {},
   "outputs": [],
   "source": [
    "document = \"\"\"\n",
    "Immediately after the verdict, in a statement released through her spokesperson, Amber had said she was ‘sad’ she had ‘lost the case’. The jury had also found Johnny guilty of defamation on one count and ordered him to pay Amber $2 million in damages. However, most legal experts said the case had been vindication for Johnny.\n",
    "Speaking about it on Today Show, Amber said about the jury, “I don’t blame them. I actually understand. He’s a beloved character and people feel they know him. He’s a fantastic actor.”\n",
    "The actor also addressed the memes that have been made about her and the hate coming her way on social media through the trial. She said, “I don’t care what one thinks about me or what judgments you want to make about what happened in the privacy of my own home, in my marriage, behind closed doors. I don’t presume the average person should know those things. And so I don’t take it personally. But even somebody who is sure I’m deserving of all this hate and vitriol, even if you think that I’m lying, you still couldn’t look me in the eye and tell me that you think on social media there’s been a fair representation. You cannot tell me that you think that this has been fair.”\n",
    "\"\"\""
   ]
  },
  {
   "cell_type": "code",
   "execution_count": null,
   "id": "823b2353-7dcc-4c3e-9d47-46173d221196",
   "metadata": {},
   "outputs": [],
   "source": [
    "sentences = nltk.sent_tokenize(document)"
   ]
  },
  {
   "cell_type": "code",
   "execution_count": null,
   "id": "47c38581-ce42-4341-a176-0822a4329ac9",
   "metadata": {},
   "outputs": [],
   "source": [
    "print(len(sentences))"
   ]
  },
  {
   "cell_type": "code",
   "execution_count": null,
   "id": "e4f1dd71-ae18-4b1a-915e-9651f49d35de",
   "metadata": {},
   "outputs": [],
   "source": [
    "embeddings = model.encode(sentences, convert_to_tensor=True)"
   ]
  },
  {
   "cell_type": "code",
   "execution_count": null,
   "id": "1ca3f617-df95-4126-833e-b46ebeaa9860",
   "metadata": {},
   "outputs": [],
   "source": [
    "cos_scores = util.cos_sim(embeddings, embeddings).cpu().numpy()"
   ]
  },
  {
   "cell_type": "code",
   "execution_count": null,
   "id": "4608b483-5498-412f-ae84-9851da5890ca",
   "metadata": {},
   "outputs": [],
   "source": [
    "cos_scores.shape"
   ]
  },
  {
   "cell_type": "code",
   "execution_count": null,
   "id": "9f01becf-0e9c-4dec-b00c-ef9aac6e2a3b",
   "metadata": {},
   "outputs": [],
   "source": [
    "centrality_score = degree_centrality_scores(cos_scores, threshold=None)"
   ]
  },
  {
   "cell_type": "code",
   "execution_count": null,
   "id": "71af6283-fe9b-4361-bce7-c55cf9b1225d",
   "metadata": {},
   "outputs": [],
   "source": [
    "most_centrality_sentence_indices = np.argsort(-centrality_score)"
   ]
  },
  {
   "cell_type": "code",
   "execution_count": null,
   "id": "19bdf2f0-841f-42e0-b7a3-804f97bcb5df",
   "metadata": {},
   "outputs": [],
   "source": [
    "most_centrality_sentence_indices"
   ]
  },
  {
   "cell_type": "code",
   "execution_count": null,
   "id": "7142b8fa-76f3-4059-82e0-e1307eb6cc7b",
   "metadata": {},
   "outputs": [],
   "source": [
    "for id in most_centrality_sentence_indices[:3]:\n",
    "  print(sentences[id].strip()"
   ]
  },
  {
   "cell_type": "code",
   "execution_count": null,
   "id": "8af03ba9-f832-4978-98c3-b20978aeee4a",
   "metadata": {},
   "outputs": [],
   "source": []
  },
  {
   "cell_type": "code",
   "execution_count": null,
   "id": "b10e820e-bd94-4f5e-b36b-e262bcc4602a",
   "metadata": {},
   "outputs": [],
   "source": []
  }
 ],
 "metadata": {
  "kernelspec": {
   "display_name": "Python 3 (ipykernel)",
   "language": "python",
   "name": "python3"
  },
  "language_info": {
   "codemirror_mode": {
    "name": "ipython",
    "version": 3
   },
   "file_extension": ".py",
   "mimetype": "text/x-python",
   "name": "python",
   "nbconvert_exporter": "python",
   "pygments_lexer": "ipython3",
   "version": "3.11.5"
  }
 },
 "nbformat": 4,
 "nbformat_minor": 5
}
