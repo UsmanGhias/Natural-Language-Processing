{
 "cells": [
  {
   "cell_type": "markdown",
   "id": "21b1b9aa-13a1-468a-961a-51cc1bd58724",
   "metadata": {},
   "source": [
    "# <center> Chapter No 1 </center>\n",
    "# Introduction to NLP and Deep Learning\n",
    "\n",
    "# Module 1: NLP Fundamentals\n",
    "\n"
   ]
  },
  {
   "cell_type": "markdown",
   "id": "54ebe143-69a2-44d8-8950-3b628828ceb3",
   "metadata": {},
   "source": [
    "<div style=\"text-align:center\">\n",
    "<img src=\"NLPCH1.png\" alt=\"Image Alt Text\" width=\"400\" height=\"300\">\n",
    "</div>\n"
   ]
  },
  {
   "cell_type": "markdown",
   "id": "1eb90506-f04e-4700-a511-54f49ee47221",
   "metadata": {},
   "source": [
    "## Topic 1: Overview of Natural Language Processing (NLP) and its applications\n",
    "### Explanation: Introduce NLP and its real-world applications.\n",
    "### Example: Analyzing text data with Python"
   ]
  },
  {
   "cell_type": "code",
   "execution_count": 38,
   "id": "1ae436f0-0825-4cd7-9a15-ae1a4cc633c2",
   "metadata": {},
   "outputs": [],
   "source": [
    "import nltk"
   ]
  },
  {
   "cell_type": "code",
   "execution_count": 39,
   "id": "b25b9d66-2569-4bd5-bbc4-f1ce3fb54424",
   "metadata": {},
   "outputs": [
    {
     "name": "stderr",
     "output_type": "stream",
     "text": [
      "[nltk_data] Downloading package punkt to C:\\Users\\Usman\n",
      "[nltk_data]     Ghias\\AppData\\Roaming\\nltk_data...\n",
      "[nltk_data]   Package punkt is already up-to-date!\n"
     ]
    }
   ],
   "source": [
    "nltk.download('punkt')\n",
    " # Download the 'punkt' dataset\n",
    "text = \"Natural Language Processing is a field of study in artificial intelligence.\"\n",
    "tokens = nltk.word_tokenize(text)"
   ]
  },
  {
   "cell_type": "code",
   "execution_count": 40,
   "id": "725b4f08-855a-4f68-b54c-c6677ee14902",
   "metadata": {},
   "outputs": [
    {
     "name": "stdout",
     "output_type": "stream",
     "text": [
      "['Natural', 'Language', 'Processing', 'is', 'a', 'field', 'of', 'study', 'in', 'artificial', 'intelligence', '.']\n"
     ]
    }
   ],
   "source": [
    "print(tokens)"
   ]
  },
  {
   "cell_type": "markdown",
   "id": "881f7983-42b2-405b-87ac-89d58b7228d0",
   "metadata": {},
   "source": [
    "## Topic 2: Introduction to deep learning and its application in NLP\n",
    "### Explanation: Explain the role of deep learning in NLP.\n",
    "### Example: Simple neural network for text classification\n"
   ]
  },
  {
   "cell_type": "code",
   "execution_count": 41,
   "id": "aad2301a-7058-46ff-866b-2555040adede",
   "metadata": {},
   "outputs": [],
   "source": [
    "import tensorflow as tf\n",
    "from tensorflow.keras.models import Sequential\n",
    "from tensorflow.keras.layers import Dense, Embedding, Flatten # Import layers"
   ]
  },
  {
   "cell_type": "code",
   "execution_count": 42,
   "id": "94601aac-7ef4-47d6-b204-d99a19b44f2b",
   "metadata": {},
   "outputs": [],
   "source": [
    "model = Sequential()      # Create a Sequential model\n",
    "model.add(Embedding(input_dim=10000, output_dim=32, input_length=100))  # Add Embedding layer\n",
    "model.add(Flatten())  # Add Flatten layer\n",
    "model.add(Dense(1, activation='sigmoid'))  # Add Dense layer with sigmoid activation function\n",
    "model.compile(optimizer='adam', loss='binary_crossentropy', metrics=['accuracy']) # Compile the model"
   ]
  },
  {
   "cell_type": "markdown",
   "id": "9ee67850-d5a1-45de-b44e-e919a883a62e",
   "metadata": {},
   "source": [
    "## Topic 3: NLP Tasks\n",
    "### Explanation: Briefly describe common NLP tasks.\n",
    "### Example: Sentiment Analysis with NLTK"
   ]
  },
  {
   "cell_type": "code",
   "execution_count": 43,
   "id": "2d34e225-cf16-48f9-9245-ba304f53d67c",
   "metadata": {},
   "outputs": [
    {
     "name": "stderr",
     "output_type": "stream",
     "text": [
      "[nltk_data] Downloading package vader_lexicon to C:\\Users\\Usman\n",
      "[nltk_data]     Ghias\\AppData\\Roaming\\nltk_data...\n",
      "[nltk_data]   Package vader_lexicon is already up-to-date!\n"
     ]
    },
    {
     "data": {
      "text/plain": [
       "True"
      ]
     },
     "execution_count": 43,
     "metadata": {},
     "output_type": "execute_result"
    }
   ],
   "source": [
    "nltk.download('vader_lexicon')"
   ]
  },
  {
   "cell_type": "code",
   "execution_count": 44,
   "id": "f6509117-3605-4515-8d71-1be1b121d999",
   "metadata": {},
   "outputs": [
    {
     "name": "stdout",
     "output_type": "stream",
     "text": [
      "{'neg': 0.0, 'neu': 0.266, 'pos': 0.734, 'compound': 0.8516}\n"
     ]
    }
   ],
   "source": [
    "from nltk.sentiment.vader import SentimentIntensityAnalyzer\n",
    "\n",
    "text = \"I love this product! It's amazing.\"\n",
    "analyzer = SentimentIntensityAnalyzer()  # Create a SentimentIntensityAnalyzer object\n",
    "sentiment = analyzer.polarity_scores(text)\n",
    "print(sentiment)  # Print the sentiment scores"
   ]
  },
  {
   "cell_type": "markdown",
   "id": "8481b337-addb-428d-84b2-aa9d26262fcb",
   "metadata": {},
   "source": [
    "## Topic 4: Text Data Preprocessing\n",
    "### Explanation: Cover essential text preprocessing techniques.\n",
    "### Example: Tokenization and Stop Word Removal"
   ]
  },
  {
   "cell_type": "code",
   "execution_count": 45,
   "id": "14027b8d-e267-4230-82a4-a4a7ea835d85",
   "metadata": {},
   "outputs": [
    {
     "name": "stderr",
     "output_type": "stream",
     "text": [
      "[nltk_data] Downloading package stopwords to C:\\Users\\Usman\n",
      "[nltk_data]     Ghias\\AppData\\Roaming\\nltk_data...\n",
      "[nltk_data]   Package stopwords is already up-to-date!\n"
     ]
    },
    {
     "data": {
      "text/plain": [
       "True"
      ]
     },
     "execution_count": 45,
     "metadata": {},
     "output_type": "execute_result"
    }
   ],
   "source": [
    "nltk.download('stopwords')  # Import stopwords from NLTK"
   ]
  },
  {
   "cell_type": "code",
   "execution_count": 46,
   "id": "629593c6-42b9-4441-99e1-0ffe050da9ac",
   "metadata": {},
   "outputs": [
    {
     "name": "stdout",
     "output_type": "stream",
     "text": [
      "['Text', 'data', 'preprocessing', 'involves', 'several', 'steps', ',', 'including', 'tokenization', 'stop', 'word', 'removal', '.']\n"
     ]
    }
   ],
   "source": [
    "from nltk.corpus import stopwords\n",
    "\n",
    "text = \"Text data preprocessing involves several steps, including tokenization and stop word removal.\"\n",
    "tokens = nltk.word_tokenize(text)\n",
    "filtered_tokens = [word for word in tokens if word.lower() not in stopwords.words('english')] # Remove stopwords\n",
    "print(filtered_tokens)\n"
   ]
  },
  {
   "cell_type": "markdown",
   "id": "9d07c7c7-e292-48b5-92d7-a7c66fe8d86b",
   "metadata": {},
   "source": [
    "# Explanation of all Cells"
   ]
  },
  {
   "cell_type": "code",
   "execution_count": null,
   "id": "edb1301c-a6ee-4758-b5e1-83395ba6e9f7",
   "metadata": {},
   "outputs": [],
   "source": []
  },
  {
   "cell_type": "code",
   "execution_count": null,
   "id": "006052f0-7430-4c8c-84b4-ad09292d7a16",
   "metadata": {},
   "outputs": [],
   "source": []
  },
  {
   "cell_type": "markdown",
   "id": "ee8df1cc-a11e-4e55-9d69-c64406d726ad",
   "metadata": {},
   "source": [
    "# Module 2: Text Data Preprocessing"
   ]
  },
  {
   "cell_type": "code",
   "execution_count": null,
   "id": "aff24ee4-6160-4307-8ef7-2524a309f648",
   "metadata": {},
   "outputs": [],
   "source": []
  },
  {
   "cell_type": "code",
   "execution_count": null,
   "id": "08f774fe-b8f5-4d85-98af-a5a03932570a",
   "metadata": {},
   "outputs": [],
   "source": []
  },
  {
   "cell_type": "markdown",
   "id": "389231b7-dd36-4d42-bc9f-3933ed6723c8",
   "metadata": {},
   "source": [
    "# Module 3: NLP Tools and Resources"
   ]
  },
  {
   "cell_type": "code",
   "execution_count": null,
   "id": "0208af6a-b813-43ea-8a58-c2fea35465eb",
   "metadata": {},
   "outputs": [],
   "source": []
  },
  {
   "cell_type": "code",
   "execution_count": null,
   "id": "c8dea3c7-0b7f-4104-a8ae-262afad3252f",
   "metadata": {},
   "outputs": [],
   "source": []
  },
  {
   "cell_type": "markdown",
   "id": "91cc7b44-0441-412e-b4bf-48fb0e0ef709",
   "metadata": {},
   "source": [
    "# Module 4: Advanced NLP Concepts"
   ]
  },
  {
   "cell_type": "code",
   "execution_count": null,
   "id": "eabc3245-e987-41f1-8276-2b83249f2cb4",
   "metadata": {},
   "outputs": [],
   "source": []
  },
  {
   "cell_type": "code",
   "execution_count": null,
   "id": "a71c889b-d3bb-4a98-8320-e800b6303145",
   "metadata": {},
   "outputs": [],
   "source": []
  }
 ],
 "metadata": {
  "kernelspec": {
   "display_name": "Python 3 (ipykernel)",
   "language": "python",
   "name": "python3"
  },
  "language_info": {
   "codemirror_mode": {
    "name": "ipython",
    "version": 3
   },
   "file_extension": ".py",
   "mimetype": "text/x-python",
   "name": "python",
   "nbconvert_exporter": "python",
   "pygments_lexer": "ipython3",
   "version": "3.11.5"
  }
 },
 "nbformat": 4,
 "nbformat_minor": 5
}
