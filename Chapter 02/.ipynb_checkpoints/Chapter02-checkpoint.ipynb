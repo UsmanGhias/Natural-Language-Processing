{
 "cells": [
  {
   "cell_type": "markdown",
   "id": "d5bb01c3-bc07-4506-aff4-dc9962105d65",
   "metadata": {},
   "source": [
    "# <Center> Chapter 2: Neural Network Fundamentals"
   ]
  },
  {
   "cell_type": "markdown",
   "id": "8f7d3124-d43f-4da8-86d5-bf8de3320f33",
   "metadata": {},
   "source": [
    "#### In this chapter, we will delve into the fundamentals of neural networks, a cornerstone in the field of Natural Language Processing (NLP). Neural networks are powerful machine learning models inspired by the structure and function of the human brain. They are designed to recognize complex patterns and relationships within data, making them invaluable tools in various NLP applications.\n"
   ]
  },
  {
   "cell_type": "code",
   "execution_count": null,
   "id": "43bd113c-f238-42d4-8923-2b2a746deacb",
   "metadata": {},
   "outputs": [],
   "source": []
  },
  {
   "cell_type": "markdown",
   "id": "e922eebb-4bc6-40f1-adca-a135ced2d1fb",
   "metadata": {},
   "source": [
    "<h1> <center> <a href=\"https://www.codcrafters.com/slides/slide/chapter-2-228\"> Visit COD Crafters Course </a> </h1>\n",
    "<h2> <center> <a href=\"https://www.codcrafters.com/slides/natural-language-processing-19\"> BUY Course </a> </h2>"
   ]
  },
  {
   "cell_type": "markdown",
   "id": "7dbadbb6-6975-4b61-8996-f3b693d6050b",
   "metadata": {},
   "source": [
    "## <center> First Neural Network using Keras\n",
    "\n",
    "#### To gain hands-on experience with neural networks, we'll start by building a simple neural network using Keras, a popular deep learning framework.\n"
   ]
  },
  {
   "cell_type": "code",
   "execution_count": null,
   "id": "9a94c545-8598-42b9-8d6e-8909b01d3aab",
   "metadata": {},
   "outputs": [],
   "source": []
  },
  {
   "cell_type": "code",
   "execution_count": 12,
   "id": "19ee5fd8-baa9-4bbc-9ed3-37c23709d536",
   "metadata": {},
   "outputs": [],
   "source": [
    "# Import required libraries: pip install keras\n",
    "import numpy as np\n",
    "import keras\n",
    "from keras.models import Sequential\n",
    "from keras.layers import Dense"
   ]
  },
  {
   "cell_type": "code",
   "execution_count": null,
   "id": "49d4366b-5a0c-4acc-a0bb-f836fa4b995a",
   "metadata": {},
   "outputs": [],
   "source": []
  },
  {
   "cell_type": "markdown",
   "id": "efadb4ce-d5d7-4f74-9a90-06d7e806b7c9",
   "metadata": {},
   "source": [
    "### <center> Loading and Preparing Data\n",
    "\n",
    "#### In this example, we'll work with the Iris dataset, a classic dataset for classification tasks. We first need to load and prepare the data.\n"
   ]
  },
  {
   "cell_type": "code",
   "execution_count": 13,
   "id": "d8030054-58f3-46f4-b88c-046b38472f0d",
   "metadata": {},
   "outputs": [],
   "source": [
    "# Load the Iris dataset; pip install scikit-learn\n",
    "from sklearn.datasets import load_iris\n",
    "iris = load_iris()\n",
    "X = iris.data\n",
    "y = iris.target"
   ]
  },
  {
   "cell_type": "markdown",
   "id": "d57ae019-60c2-48d3-8afa-33e442cf4186",
   "metadata": {},
   "source": [
    "#### Next, we split the dataset into training and testing sets to evaluate the model's performance.\n"
   ]
  },
  {
   "cell_type": "code",
   "execution_count": 14,
   "id": "ee15983d-abcf-4b96-939f-d3ef8123022d",
   "metadata": {},
   "outputs": [],
   "source": [
    "# Split the dataset into training and testing sets\n",
    "from sklearn.model_selection import train_test_split\n",
    "\n",
    "X_train, X_test, y_train, y_test = train_test_split(X, y, test_size=0.2, random_state=42)"
   ]
  },
  {
   "cell_type": "markdown",
   "id": "beb740c8-cae0-4783-9ed9-4e8489f338a7",
   "metadata": {},
   "source": [
    "### <center> Defining the Neural Network Architecture\n",
    "\n",
    "#### Now, let's define our neural network architecture using Keras. We'll create a simple feedforward neural network with one hidden layer.\n"
   ]
  },
  {
   "cell_type": "code",
   "execution_count": 15,
   "id": "b93e239a-75d6-465a-9321-97c0b53df207",
   "metadata": {},
   "outputs": [],
   "source": [
    "# Define the Neural Network Architecture\n",
    "model = Sequential()\n",
    "model.add(Dense(10, input_dim=4, activation='relu'))  # Input layer with 4 features and 10 neurons in the hidden layer\n",
    "model.add(Dense(3, activation='softmax'))           # Output layer with 3 classes and softmax activation"
   ]
  },
  {
   "cell_type": "markdown",
   "id": "19af4f56-b5ea-484f-9ad5-11b09783bc20",
   "metadata": {},
   "source": [
    "### <center> Compiling the Model\n",
    "#### Before training the model, we need to compile it by specifying the loss function, optimizer, and metrics to be used during training.\n"
   ]
  },
  {
   "cell_type": "code",
   "execution_count": 16,
   "id": "84a4d60b-e2b6-4e72-940a-8f1c05529e4b",
   "metadata": {},
   "outputs": [],
   "source": [
    "# Compile the Model\n",
    "model.compile(loss='sparse_categorical_crossentropy', optimizer='adam', metrics=['accuracy'])"
   ]
  },
  {
   "cell_type": "markdown",
   "id": "f165aa95-aba5-427f-bf10-9b31371d1da2",
   "metadata": {},
   "source": [
    "### <center> Training the Model\n",
    "#### We'll train the model using the training data. The number of epochs determines how many times the entire dataset is passed through the network during training.\n"
   ]
  },
  {
   "cell_type": "code",
   "execution_count": 17,
   "id": "289b79aa-cf41-4a63-a034-38a02710db2b",
   "metadata": {},
   "outputs": [
    {
     "data": {
      "text/plain": [
       "<keras.src.callbacks.History at 0x1c4945c1990>"
      ]
     },
     "execution_count": 17,
     "metadata": {},
     "output_type": "execute_result"
    }
   ],
   "source": [
    "# Train the model\n",
    "model.fit(X_train, y_train, epochs=1000, verbose=0)"
   ]
  },
  {
   "cell_type": "markdown",
   "id": "de99ddf5-f1dc-4dff-8d80-c2f81aae8da5",
   "metadata": {},
   "source": [
    "### <center> Evaluating the Model\n",
    "\n",
    "#### After training, we can evaluate the model's performance on the test data.\n"
   ]
  },
  {
   "cell_type": "code",
   "execution_count": 18,
   "id": "60e5d064-640d-4054-b632-01109b05aa96",
   "metadata": {},
   "outputs": [
    {
     "name": "stdout",
     "output_type": "stream",
     "text": [
      "1/1 [==============================] - 0s 424ms/step - loss: 0.0742 - accuracy: 0.9667\n",
      "\n",
      "accuracy: 96.67%\n"
     ]
    }
   ],
   "source": [
    "# Evaluate the model on the test data\n",
    "scores = model.evaluate(X_test, y_test)\n",
    "print(\"\\n%s: %.2f%%\" % (model.metrics_names[1], scores[1] * 100))"
   ]
  },
  {
   "cell_type": "code",
   "execution_count": null,
   "id": "bc482779-da12-4f12-9dd2-7393050419a0",
   "metadata": {},
   "outputs": [],
   "source": []
  }
 ],
 "metadata": {
  "kernelspec": {
   "display_name": "Python 3 (ipykernel)",
   "language": "python",
   "name": "python3"
  },
  "language_info": {
   "codemirror_mode": {
    "name": "ipython",
    "version": 3
   },
   "file_extension": ".py",
   "mimetype": "text/x-python",
   "name": "python",
   "nbconvert_exporter": "python",
   "pygments_lexer": "ipython3",
   "version": "3.11.5"
  }
 },
 "nbformat": 4,
 "nbformat_minor": 5
}
